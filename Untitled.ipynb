{
 "cells": [
  {
   "cell_type": "code",
   "execution_count": 300,
   "metadata": {},
   "outputs": [],
   "source": [
    "# Import packages\n",
    "import numpy as np\n",
    "import keras\n",
    "from keras.datasets import imdb\n",
    "from keras.preprocessing.sequence import pad_sequences\n",
    "from keras.models import Sequential\n",
    "from keras.layers import Dense, Dropout, Activation, Embedding, LSTM, SpatialDropout1D, TimeDistributed\n",
    "from keras.preprocessing.text import Tokenizer\n",
    "from keras.callbacks import EarlyStopping\n",
    "np.random.seed(17)"
   ]
  },
  {
   "cell_type": "code",
   "execution_count": 301,
   "metadata": {},
   "outputs": [
    {
     "name": "stderr",
     "output_type": "stream",
     "text": [
      "/anaconda3/envs/sentiment/lib/python3.5/site-packages/keras/datasets/imdb.py:49: UserWarning: The `nb_words` argument in `load_data` has been renamed `num_words`.\n",
      "  warnings.warn('The `nb_words` argument in `load_data` '\n"
     ]
    },
    {
     "name": "stdout",
     "output_type": "stream",
     "text": [
      "(50000,)\n",
      "(50000,)\n"
     ]
    }
   ],
   "source": [
    "(x_train, y_train), (x_test, y_test) = imdb.load_data(nb_words = 10000)\n",
    "features = np.concatenate((x_train, x_test), axis=0)\n",
    "labels = np.concatenate((y_train, y_test), axis=0)\n",
    "print(features.shape)\n",
    "print(labels.shape)"
   ]
  },
  {
   "cell_type": "code",
   "execution_count": 302,
   "metadata": {},
   "outputs": [
    {
     "name": "stdout",
     "output_type": "stream",
     "text": [
      "Categories: [0 1]\n",
      "Number of unique words: 9998\n",
      "Average Review length: 234.75892\n",
      "Max Review length: 2494\n",
      "Standard Deviation: 173.0\n"
     ]
    }
   ],
   "source": [
    "print(\"Categories:\", np.unique(labels))\n",
    "print(\"Number of unique words:\", len(np.unique(np.hstack(features))))\n",
    "length = [len(i) for i in features]\n",
    "print(\"Average Review length:\", np.mean(length))\n",
    "print(\"Max Review length:\", np.max(length))\n",
    "print(\"Standard Deviation:\", round(np.std(length)))"
   ]
  },
  {
   "cell_type": "code",
   "execution_count": 303,
   "metadata": {},
   "outputs": [
    {
     "name": "stdout",
     "output_type": "stream",
     "text": [
      "Feature vector:[1, 14, 22, 16, 43, 530, 973, 1622, 1385, 65, 458, 4468, 66, 3941, 4, 173, 36, 256, 5, 25, 100, 43, 838, 112, 50, 670, 2, 9, 35, 480, 284, 5, 150, 4, 172, 112, 167, 2, 336, 385, 39, 4, 172, 4536, 1111, 17, 546, 38, 13, 447, 4, 192, 50, 16, 6, 147, 2025, 19, 14, 22, 4, 1920, 4613, 469, 4, 22, 71, 87, 12, 16, 43, 530, 38, 76, 15, 13, 1247, 4, 22, 17, 515, 17, 12, 16, 626, 18, 2, 5, 62, 386, 12, 8, 316, 8, 106, 5, 4, 2223, 5244, 16, 480, 66, 3785, 33, 4, 130, 12, 16, 38, 619, 5, 25, 124, 51, 36, 135, 48, 25, 1415, 33, 6, 22, 12, 215, 28, 77, 52, 5, 14, 407, 16, 82, 2, 8, 4, 107, 117, 5952, 15, 256, 4, 2, 7, 3766, 5, 723, 36, 71, 43, 530, 476, 26, 400, 317, 46, 7, 4, 2, 1029, 13, 104, 88, 4, 381, 15, 297, 98, 32, 2071, 56, 26, 141, 6, 194, 7486, 18, 4, 226, 22, 21, 134, 476, 26, 480, 5, 144, 30, 5535, 18, 51, 36, 28, 224, 92, 25, 104, 4, 226, 65, 16, 38, 1334, 88, 12, 16, 283, 5, 16, 4472, 113, 103, 32, 15, 16, 5345, 19, 178, 32]\n",
      "Label:1\n"
     ]
    }
   ],
   "source": [
    "print(\"Feature vector:\" + str(features[0]))\n",
    "print(\"Label:\" + str(labels[0]))"
   ]
  },
  {
   "cell_type": "code",
   "execution_count": 304,
   "metadata": {},
   "outputs": [
    {
     "name": "stdout",
     "output_type": "stream",
     "text": [
      "[0. 1. 1. ... 0. 0. 0.]\n"
     ]
    }
   ],
   "source": [
    "tokenizer = Tokenizer(num_words=10000)\n",
    "x_tokenized = tokenizer.sequences_to_matrix(features, mode='binary')\n",
    "print(x_tokenized[0])"
   ]
  },
  {
   "cell_type": "code",
   "execution_count": 305,
   "metadata": {},
   "outputs": [
    {
     "name": "stdout",
     "output_type": "stream",
     "text": [
      "(50000, 2)\n"
     ]
    }
   ],
   "source": [
    "from keras.utils import to_categorical\n",
    "y_binary = to_categorical(labels)\n",
    "print(y_binary.shape)"
   ]
  },
  {
   "cell_type": "code",
   "execution_count": 306,
   "metadata": {},
   "outputs": [],
   "source": [
    "x_train_tokenized = x_tokenized[10000:]\n",
    "y_train = y_binary[10000:]\n",
    "x_test_tokenized = x_tokenized[:10000]\n",
    "y_test = y_binary[:10000]"
   ]
  },
  {
   "cell_type": "code",
   "execution_count": 307,
   "metadata": {},
   "outputs": [],
   "source": [
    "earlystop = EarlyStopping(monitor='val_loss', min_delta=0, patience=5, verbose=1, mode='auto')\n",
    "callbacks_list = [earlystop]"
   ]
  },
  {
   "cell_type": "code",
   "execution_count": 223,
   "metadata": {},
   "outputs": [
    {
     "name": "stdout",
     "output_type": "stream",
     "text": [
      "_________________________________________________________________\n",
      "Layer (type)                 Output Shape              Param #   \n",
      "=================================================================\n",
      "dense_116 (Dense)            (None, 10000)             100010000 \n",
      "_________________________________________________________________\n",
      "dense_117 (Dense)            (None, 100)               1000100   \n",
      "_________________________________________________________________\n",
      "dropout_56 (Dropout)         (None, 100)               0         \n",
      "_________________________________________________________________\n",
      "dense_118 (Dense)            (None, 200)               20200     \n",
      "_________________________________________________________________\n",
      "dropout_57 (Dropout)         (None, 200)               0         \n",
      "_________________________________________________________________\n",
      "dense_119 (Dense)            (None, 200)               40200     \n",
      "_________________________________________________________________\n",
      "dropout_58 (Dropout)         (None, 200)               0         \n",
      "_________________________________________________________________\n",
      "dense_120 (Dense)            (None, 200)               40200     \n",
      "_________________________________________________________________\n",
      "dropout_59 (Dropout)         (None, 200)               0         \n",
      "_________________________________________________________________\n",
      "dense_121 (Dense)            (None, 200)               40200     \n",
      "_________________________________________________________________\n",
      "dropout_60 (Dropout)         (None, 200)               0         \n",
      "_________________________________________________________________\n",
      "dense_122 (Dense)            (None, 2)                 402       \n",
      "=================================================================\n",
      "Total params: 101,151,302\n",
      "Trainable params: 101,151,302\n",
      "Non-trainable params: 0\n",
      "_________________________________________________________________\n"
     ]
    }
   ],
   "source": [
    "# Sequential BOW model\n",
    "model1 = Sequential()\n",
    "model1.add(Dense(10000, input_dim = x_train_tokenized.shape[1]))\n",
    "model1.add(Dense(100, activation='tanh'))\n",
    "model1.add(Dropout(0.1))\n",
    "model1.add(Dense(200, activation='tanh'))\n",
    "model1.add(Dropout(0.1))\n",
    "model1.add(Dense(200, activation='tanh'))\n",
    "model1.add(Dropout(0.3))\n",
    "model1.add(Dense(200, activation='relu'))\n",
    "model1.add(Dropout(0.5))\n",
    "model1.add(Dense(200, activation='relu'))\n",
    "model1.add(Dropout(0.5))\n",
    "model1.add(Dense(2, activation ='softmax'))\n",
    "    \n",
    "model1.compile(loss=\"categorical_crossentropy\", optimizer=\"adam\", metrics = [\"accuracy\"])\n",
    "    \n",
    "model1.summary()"
   ]
  },
  {
   "cell_type": "code",
   "execution_count": 224,
   "metadata": {},
   "outputs": [
    {
     "name": "stderr",
     "output_type": "stream",
     "text": [
      "/anaconda3/envs/sentiment/lib/python3.5/site-packages/ipykernel/__main__.py:3: UserWarning: The `nb_epoch` argument in `fit` has been renamed `epochs`.\n",
      "  app.launch_new_instance()\n"
     ]
    },
    {
     "name": "stdout",
     "output_type": "stream",
     "text": [
      "Train on 34000 samples, validate on 6000 samples\n",
      "Epoch 1/3\n",
      "34000/34000 [==============================] - 410s 12ms/step - loss: 0.3638 - acc: 0.8410 - val_loss: 0.2836 - val_acc: 0.8937\n",
      "Epoch 2/3\n",
      "34000/34000 [==============================] - 388s 11ms/step - loss: 0.2376 - acc: 0.9084 - val_loss: 0.2914 - val_acc: 0.8793\n",
      "Epoch 3/3\n",
      "34000/34000 [==============================] - 385s 11ms/step - loss: 0.2007 - acc: 0.9232 - val_loss: 0.2891 - val_acc: 0.8917\n"
     ]
    },
    {
     "data": {
      "text/plain": [
       "<keras.callbacks.History at 0x23d819c50>"
      ]
     },
     "execution_count": 224,
     "metadata": {},
     "output_type": "execute_result"
    }
   ],
   "source": [
    "###### Fit model\n",
    "model1.fit(x_train_tokenized, y_train, nb_epoch=3, callbacks=callbacks_list, batch_size =128, \n",
    "           verbose=1, validation_split = 0.15)"
   ]
  },
  {
   "cell_type": "code",
   "execution_count": 225,
   "metadata": {},
   "outputs": [
    {
     "name": "stdout",
     "output_type": "stream",
     "text": [
      "10000/10000 [==============================] - 30s 3ms/step\n",
      "Accuracy:  0.8823\n"
     ]
    }
   ],
   "source": [
    "score = model1.evaluate(x_test, y_test, verbose=1)\n",
    "print(\"Accuracy: \", score[1])"
   ]
  },
  {
   "cell_type": "code",
   "execution_count": 308,
   "metadata": {},
   "outputs": [
    {
     "name": "stdout",
     "output_type": "stream",
     "text": [
      "[1, 14, 22, 16, 43, 530, 973, 1622, 1385, 65, 458, 4468, 66, 3941, 4, 173, 36, 256, 5, 25, 100, 43, 838, 112, 50, 670, 2, 9, 35, 480, 284, 5, 150, 4, 172, 112, 167, 2, 336, 385, 39, 4, 172, 4536, 1111, 17, 546, 38, 13, 447, 4, 192, 50, 16, 6, 147, 2025, 19, 14, 22, 4, 1920, 4613, 469, 4, 22, 71, 87, 12, 16, 43, 530, 38, 76, 15, 13, 1247, 4, 22, 17, 515, 17, 12, 16, 626, 18, 2, 5, 62, 386, 12, 8, 316, 8, 106, 5, 4, 2223, 5244, 16, 480, 66, 3785, 33, 4, 130, 12, 16, 38, 619, 5, 25, 124, 51, 36, 135, 48, 25, 1415, 33, 6, 22, 12, 215, 28, 77, 52, 5, 14, 407, 16, 82, 2, 8, 4, 107, 117, 5952, 15, 256, 4, 2, 7, 3766, 5, 723, 36, 71, 43, 530, 476, 26, 400, 317, 46, 7, 4, 2, 1029, 13, 104, 88, 4, 381, 15, 297, 98, 32, 2071, 56, 26, 141, 6, 194, 7486, 18, 4, 226, 22, 21, 134, 476, 26, 480, 5, 144, 30, 5535, 18, 51, 36, 28, 224, 92, 25, 104, 4, 226, 65, 16, 38, 1334, 88, 12, 16, 283, 5, 16, 4472, 113, 103, 32, 15, 16, 5345, 19, 178, 32]\n",
      "(40000, 2500)\n",
      "(10000, 2500)\n",
      "[0 0 0 ... 7 4 2]\n"
     ]
    }
   ],
   "source": [
    "from keras.preprocessing import sequence\n",
    "print(features[0])\n",
    "x_train = features[10000:]\n",
    "x_test = features[:10000]\n",
    "x_train = sequence.pad_sequences(x_train, maxlen = 2500)\n",
    "x_test = sequence.pad_sequences(x_test, maxlen = 2500)\n",
    "print(x_train.shape)\n",
    "print(x_test.shape)\n",
    "print(x_train[0])"
   ]
  },
  {
   "cell_type": "code",
   "execution_count": 309,
   "metadata": {},
   "outputs": [
    {
     "name": "stdout",
     "output_type": "stream",
     "text": [
      "_________________________________________________________________\n",
      "Layer (type)                 Output Shape              Param #   \n",
      "=================================================================\n",
      "embedding_85 (Embedding)     (None, 2500, 64)          640000    \n",
      "_________________________________________________________________\n",
      "lstm_213 (LSTM)              (None, 2500, 200)         212000    \n",
      "_________________________________________________________________\n",
      "lstm_214 (LSTM)              (None, 200)               320800    \n",
      "_________________________________________________________________\n",
      "dense_144 (Dense)            (None, 2)                 402       \n",
      "=================================================================\n",
      "Total params: 1,173,202\n",
      "Trainable params: 1,173,202\n",
      "Non-trainable params: 0\n",
      "_________________________________________________________________\n"
     ]
    }
   ],
   "source": [
    "# Build RNN model\n",
    "model2 = Sequential()\n",
    "model2.add(Embedding(10000, 64, input_length = x_train.shape[1]))\n",
    "model2.add(LSTM(200, return_sequences = True))\n",
    "model2.add(LSTM(200, dropout = 0.1))\n",
    "model2.add(Dense(2,activation='softmax'))\n",
    "\n",
    "model2.compile(loss=\"categorical_crossentropy\", optimizer=\"adam\", metrics = [\"accuracy\"])\n",
    "   \n",
    "model2.summary()\n",
    "# return_sequences = True\n",
    "# recurrent_dropout=0.1, dropout = 0.1"
   ]
  },
  {
   "cell_type": "code",
   "execution_count": 310,
   "metadata": {},
   "outputs": [
    {
     "name": "stderr",
     "output_type": "stream",
     "text": [
      "/anaconda3/envs/sentiment/lib/python3.5/site-packages/ipykernel/__main__.py:4: UserWarning: The `nb_epoch` argument in `fit` has been renamed `epochs`.\n"
     ]
    },
    {
     "name": "stdout",
     "output_type": "stream",
     "text": [
      "Train on 34000 samples, validate on 6000 samples\n",
      "Epoch 1/3\n",
      "34000/34000 [==============================] - 4740s 139ms/step - loss: 0.4889 - acc: 0.7682 - val_loss: 0.4500 - val_acc: 0.7883\n",
      "Epoch 2/3\n",
      "34000/34000 [==============================] - 4852s 143ms/step - loss: 0.3130 - acc: 0.8743 - val_loss: 0.3039 - val_acc: 0.8768\n",
      "Epoch 3/3\n",
      "34000/34000 [==============================] - 4947s 145ms/step - loss: 0.2500 - acc: 0.9056 - val_loss: 0.3055 - val_acc: 0.8857\n"
     ]
    }
   ],
   "source": [
    "#### import time\n",
    "start = time.time()\n",
    "\n",
    "model2.fit(x_train, y_train, nb_epoch=3, callbacks=callbacks_list, batch_size = 64, verbose=1, validation_split = 0.15)\n",
    "\n",
    "end = time.time()"
   ]
  },
  {
   "cell_type": "code",
   "execution_count": 311,
   "metadata": {},
   "outputs": [
    {
     "name": "stdout",
     "output_type": "stream",
     "text": [
      "10000/10000 [==============================] - 398s 40ms/step\n",
      "Accuracy:  0.8771\n"
     ]
    }
   ],
   "source": [
    "score = model2.evaluate(x_test, y_test, verbose=1)\n",
    "print(\"Accuracy: \", score[1])"
   ]
  },
  {
   "cell_type": "code",
   "execution_count": null,
   "metadata": {},
   "outputs": [],
   "source": [
    "model3 = Sequential()\n",
    "model3.add(LSTM(10000, input_shape=(x_train.shape)))\n",
    "model3.add(RepeatVector(3))\n",
    "model3.add(LSTM(200, return_sequences=True))\n",
    "model3.add(TimeDistributed(Dense(2, activation='softmax')))\n",
    "\n",
    "model3.compile(loss=\"categorical_crossentropy\", optimizer=\"adam\", metrics = [\"accuracy\"])\n",
    "   \n",
    "model3.summary()"
   ]
  },
  {
   "cell_type": "code",
   "execution_count": null,
   "metadata": {},
   "outputs": [],
   "source": [
    "start = time.time()\n",
    "\n",
    "model3.fit(x_train, y_train, nb_epoch=3, callbacks=callbacks_list, batch_size = 128, verbose=1, validation_split = 0.2)\n",
    "\n",
    "end = time.time()"
   ]
  }
 ],
 "metadata": {
  "kernelspec": {
   "display_name": "Python [conda env:sentiment]",
   "language": "python",
   "name": "conda-env-sentiment-py"
  },
  "language_info": {
   "codemirror_mode": {
    "name": "ipython",
    "version": 3
   },
   "file_extension": ".py",
   "mimetype": "text/x-python",
   "name": "python",
   "nbconvert_exporter": "python",
   "pygments_lexer": "ipython3",
   "version": "3.5.5"
  }
 },
 "nbformat": 4,
 "nbformat_minor": 2
}
